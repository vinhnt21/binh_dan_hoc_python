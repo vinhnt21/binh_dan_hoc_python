{
 "cells": [
  {
   "cell_type": "markdown",
   "metadata": {},
   "source": [
    "## **Giới Thiệu Python**"
   ]
  },
  {
   "cell_type": "code",
   "execution_count": 1,
   "metadata": {},
   "outputs": [
    {
     "name": "stdout",
     "output_type": "stream",
     "text": [
      "Hiếu đẹp trai mà ế quá\n"
     ]
    }
   ],
   "source": [
    "print(\"Hiếu đẹp trai mà ế quá\")"
   ]
  },
  {
   "cell_type": "markdown",
   "metadata": {},
   "source": [
    "### **Cấu trúc một câu lệnh cơ bản:**\n",
    "\n",
    "```\n",
    "task_name(input1, input2, ..., inputn) -> output\n",
    "```\n",
    "\n",
    "Trong đó:\n",
    "- `task_name`: tên của task (tên hàm)\n",
    "    - Hàm thực hiện một công việc cụ thể\n",
    "    - Hàm sẽ trả về một giá trị hoặc không trả về giá trị nào\n",
    "- `input1, input2, ..., inputn`: các tham số, hay còn gọi là dữ liệu đầu vào\n",
    "    - các tham số này có thể có hoặc không\n",
    "    - các tham số này có thể có một hoặc nhiều kiểu dữ liệu khác nhau\n",
    "- `output`: kết quả của task, hay còn gọi là dữ liệu đầu ra, \n",
    "    - kết quả này có thể có hoặc không\n",
    "    - kết quả này có thể có một hoặc nhiều kiểu dữ liệu khác nhau\n",
    "\n",
    "**Ví dụ:**\n",
    "```python\n",
    "print('Hello, world!') -> None\n",
    "```\n",
    "- Tên task: `print`\n",
    "    - Tác dụng: In ra màn hình dòng chữ được nhập vào\n",
    "- Dữ liệu đầu vào: `'Hello, world!'`\n",
    "- Dữ liệu đầu ra: `None`\n"
   ]
  },
  {
   "cell_type": "markdown",
   "metadata": {},
   "source": [
    "### **Luồng Chạy: Tuần Tự (Từ trên xuống dưới)**"
   ]
  },
  {
   "cell_type": "code",
   "execution_count": null,
   "metadata": {},
   "outputs": [],
   "source": []
  },
  {
   "cell_type": "code",
   "execution_count": 2,
   "metadata": {},
   "outputs": [
    {
     "name": "stdout",
     "output_type": "stream",
     "text": [
      "Step 1\n",
      "Step 2\n",
      "Step 3\n",
      "Step 4\n"
     ]
    }
   ],
   "source": [
    "print(\"Step 1\")\n",
    "print(\"Step 2\")\n",
    "print(\"Step 3\")\n",
    "print(\"Step 4\")"
   ]
  },
  {
   "cell_type": "markdown",
   "metadata": {},
   "source": [
    "## **Biến và Kiểu Dữ Liệu**"
   ]
  },
  {
   "cell_type": "code",
   "execution_count": 4,
   "metadata": {},
   "outputs": [
    {
     "name": "stdout",
     "output_type": "stream",
     "text": [
      "7\n"
     ]
    }
   ],
   "source": [
    "n = 7\n",
    "print(n)"
   ]
  },
  {
   "cell_type": "code",
   "execution_count": 2,
   "metadata": {},
   "outputs": [
    {
     "name": "stdout",
     "output_type": "stream",
     "text": [
      "7\n",
      "8\n"
     ]
    }
   ],
   "source": [
    "n = 7\n",
    "print(n)\n",
    "n = 8\n",
    "print(n)"
   ]
  },
  {
   "cell_type": "code",
   "execution_count": 4,
   "metadata": {},
   "outputs": [
    {
     "name": "stdout",
     "output_type": "stream",
     "text": [
      "<class 'int'>\n",
      "21\n",
      "<class 'float'>\n",
      "0.5\n",
      "<class 'str'>\n",
      "Thiên Lý Ơi\n",
      "<class 'bool'>\n",
      "True\n"
     ]
    }
   ],
   "source": [
    "my_age = 21 # Integer - số nguyên\n",
    "print(type(my_age))\n",
    "print(my_age)\n",
    "\n",
    "my_chemistry_score = 0.5 # Float - số thực\n",
    "print(type(my_chemistry_score))\n",
    "print(my_chemistry_score)\n",
    "\n",
    "song_name = \"Thiên Lý Ơi\" # String - chuỗi ký tự\n",
    "print(type(song_name))\n",
    "print(song_name)\n",
    "\n",
    "a = \"18\" # String - chuỗi ký tự\n",
    "print(type(a))\n",
    "print(a)\n",
    "\n",
    "is_single = True # Boolean - kiểu logic\n",
    "print(type(is_single))\n",
    "print(is_single)"
   ]
  },
  {
   "cell_type": "markdown",
   "metadata": {},
   "source": [
    "## **Một Số Câu Lệnh Cơ Bản**\n",
    "\n",
    "### `print(các chuỗi hoặc biến cần in ra, sep, end)`\n",
    "- Tác dụng: In ra màn hình các chuỗi hoặc biến được truyền vào\n",
    "- Input data:\n",
    "    - Các chuỗi hoặc biến cần in ra (bắt buộc)\n",
    "    - Optional:\n",
    "        - `sep`: ký tự ngăn cách giữa các chuỗi hoặc biến cần in ra (mặc định là khoảng trắng)\n",
    "        - `end`: ký tự kết thúc của mỗi lần in (mặc định là ký tự xuống dòng)\n",
    "\n",
    "### `input(Tiêu đề)`\n",
    "- Tác dụng: Nhận dữ liệu đầu vào từ người dùng\n",
    "- Input data:\n",
    "    - `Tiêu đề`: chuỗi thông báo cho người dùng biết cần phải nhập dữ liệu gì\n",
    "\n",
    "\n",
    "### `type(biến)`\n",
    "- Tác dụng: Trả về kiểu dữ liệu của biến\n",
    "- Input data:\n",
    "    - `biến`: biến cần kiểm tra kiểu dữ liệu\n",
    "\n",
    "\n"
   ]
  },
  {
   "cell_type": "markdown",
   "metadata": {},
   "source": [
    "## **Ép Kiểu Dữ Liệu**\n",
    "\n",
    "- **Cú pháp:**\n",
    "    ```\n",
    "    expected_data_type(data)\n",
    "    ```\n",
    "\n",
    "- **Tác dụng:** Ép kiểu dữ liệu của biến `data` về kiểu dữ liệu `expected_data_type`\n",
    "\n",
    "- Ví dụ:\n",
    "    - câu lệnh `input` luôn trả về kiểu dữ liệu `str`\n",
    "    - khi yêu cầu người nhập số (tuổi, tiền,...) để tính toán \n",
    "        --> cần ép từ kiểu `str` sang kiểu `int` hoặc `float`"
   ]
  },
  {
   "cell_type": "code",
   "execution_count": null,
   "metadata": {},
   "outputs": [],
   "source": [
    "current_balance = input(\"Còn bao tiền khai mai: \")\n",
    "print(type(current_balance))\n",
    "# mua quà cho bạn gái 100k\n",
    "current_balance = int(current_balance)\n",
    "current_balance = current_balance - 100\n",
    "print(current_balance)"
   ]
  },
  {
   "cell_type": "markdown",
   "metadata": {},
   "source": [
    "## **Một Số Phép Toán Cơ Bản**\n",
    "\n",
    "### Artithmetic (Các phép toán số học)\n",
    "\n",
    "- `+`: Phép cộng\n",
    "- `-`: Phép trừ\n",
    "- `*`: Phép nhân\n",
    "- `/`: Phép chia\n",
    "- `//`: Phép chia lấy phần nguyên\n",
    "- `%`: Phép chia lấy phần dư\n",
    "- `**`: Phép mũ\n"
   ]
  },
  {
   "cell_type": "code",
   "execution_count": 5,
   "metadata": {},
   "outputs": [
    {
     "name": "stdout",
     "output_type": "stream",
     "text": [
      "wife_salary:  5000000\n",
      "wife_salary:  12000000\n"
     ]
    }
   ],
   "source": [
    "wife_salary = 5000000\n",
    "husband_salary = 7000000\n",
    "print(\"wife_salary: \", wife_salary)\n",
    "\n",
    "wife_salary = wife_salary + husband_salary\n",
    "print(\"wife_salary: \", wife_salary)"
   ]
  },
  {
   "cell_type": "code",
   "execution_count": 8,
   "metadata": {},
   "outputs": [
    {
     "name": "stdout",
     "output_type": "stream",
     "text": [
      "3\n",
      "1\n"
     ]
    }
   ],
   "source": [
    "a = 10\n",
    "b = 3\n",
    "\n",
    "c = a // b\n",
    "print(c)\n",
    "\n",
    "c = a % b\n",
    "print(c)"
   ]
  },
  {
   "cell_type": "markdown",
   "metadata": {},
   "source": [
    "\n",
    "\n",
    "### Assignment (Phép gán)\n",
    "- `=`: Phép gán giá trị của biến bên phải cho biến bên trái\n",
    "- `+=`: Phép cộng và gán\n",
    "- `-=`: Phép trừ và gán\n",
    "- `*=`: Phép nhân và gán\n",
    "- `/=`: Phép chia và gán\n",
    "- `//=`: Phép chia lấy phần nguyên và gán\n",
    "- `%=`: Phép chia lấy phần dư và gán\n",
    "- `**=`: Phép mũ và gán\n"
   ]
  },
  {
   "cell_type": "code",
   "execution_count": 6,
   "metadata": {},
   "outputs": [
    {
     "name": "stdout",
     "output_type": "stream",
     "text": [
      "wife_salary:  12000000\n"
     ]
    }
   ],
   "source": [
    "wife_salary = 5000000\n",
    "husband_salary = 7000000\n",
    "\n",
    "wife_salary += husband_salary\n",
    "# wife_salary = wife_salary + husband_salary\n",
    "print(\"wife_salary: \", wife_salary)"
   ]
  },
  {
   "cell_type": "markdown",
   "metadata": {},
   "source": [
    "\n",
    "\n",
    "### Comparison (Các phép so sánh)\n",
    "- `==`: So sánh bằng\n",
    "- `!=`: So sánh khác\n",
    "- `>`: So sánh lớn hơn\n",
    "- `<`: So sánh nhỏ hơn\n",
    "- `>=`: So sánh lớn hơn hoặc bằng\n",
    "- `<=`: So sánh nhỏ hơn hoặc bằng\n",
    "\n"
   ]
  },
  {
   "cell_type": "code",
   "execution_count": 10,
   "metadata": {},
   "outputs": [
    {
     "name": "stdout",
     "output_type": "stream",
     "text": [
      "False\n"
     ]
    }
   ],
   "source": [
    "my_age = 8\n",
    "base_age = 18\n",
    "\n",
    "is_valid = my_age >= base_age # 8 >= 18\n",
    "\n",
    "print(is_valid)"
   ]
  },
  {
   "cell_type": "markdown",
   "metadata": {},
   "source": [
    "\n",
    "### Logical (Các phép logic)\n",
    "- `and`: Phép logic `và`\n",
    "    - Tất cả các điều kiện đều phải đúng thì kết quả mới là đúng\n",
    "- `or`: Phép logic `hoặc`\n",
    "    - Chỉ cần một trong các điều kiện đúng thì kết quả là đúng\n",
    "- `not`: Phép logic `phủ định`\n",
    "    - Đảo ngược kết quả của một biểu thức logic\n",
    "    \n"
   ]
  },
  {
   "cell_type": "code",
   "execution_count": 12,
   "metadata": {},
   "outputs": [
    {
     "name": "stdout",
     "output_type": "stream",
     "text": [
      "is_vip_account:  True\n"
     ]
    }
   ],
   "source": [
    "is_signed_in = True\n",
    "is_paid = True\n",
    "is_vip_account = is_signed_in and is_paid\n",
    "print(\"is_vip_account: \", is_vip_account)"
   ]
  },
  {
   "cell_type": "code",
   "execution_count": 16,
   "metadata": {},
   "outputs": [
    {
     "name": "stdout",
     "output_type": "stream",
     "text": [
      "is_perfect:  False\n"
     ]
    }
   ],
   "source": [
    "is_handsome = False\n",
    "is_rich = False\n",
    "\n",
    "is_perfect = is_handsome or is_rich\n",
    "print(\"is_perfect: \", is_perfect)"
   ]
  },
  {
   "cell_type": "code",
   "execution_count": 19,
   "metadata": {},
   "outputs": [
    {
     "name": "stdout",
     "output_type": "stream",
     "text": [
      "False\n",
      "True\n"
     ]
    }
   ],
   "source": [
    "a  = 10 < 6 # False\n",
    "print(a)\n",
    "\n",
    "a = not 10 < 6\n",
    "print(a)"
   ]
  },
  {
   "cell_type": "markdown",
   "metadata": {},
   "source": [
    "\n",
    "### Identity (Các phép so sánh định danh)\n",
    "\n",
    "### Membership (Các phép kiểm tra sự tồn tại trong tập hợp)"
   ]
  },
  {
   "cell_type": "markdown",
   "metadata": {},
   "source": [
    "## **Cấu Trúc Điều Kiện: if, elif, else**"
   ]
  },
  {
   "cell_type": "code",
   "execution_count": 20,
   "metadata": {},
   "outputs": [
    {
     "name": "stdout",
     "output_type": "stream",
     "text": [
      "Bạn đã đủ tuổi\n"
     ]
    }
   ],
   "source": [
    "my_age = 18\n",
    "\n",
    "if my_age >= 18:\n",
    "    print(\"Bạn đã đủ tuổi\")\n",
    "else:\n",
    "    print(\"Bạn chưa đủ tuổi\")\n"
   ]
  },
  {
   "cell_type": "code",
   "execution_count": null,
   "metadata": {},
   "outputs": [],
   "source": [
    "avg_point = input(\"Enter your average point: \")\n",
    "avg_point = float(avg_point)\n",
    "\n",
    "if avg_point >= 9.0:\n",
    "    print(\"A\")\n",
    "elif avg_point >= 8.0:\n",
    "    print(\"B\")\n",
    "else:\n",
    "    print(\"C\")\n",
    "\n",
    "print(\"End of the program\")"
   ]
  },
  {
   "cell_type": "markdown",
   "metadata": {},
   "source": [
    "## **Vòng Lặp: for, while**\n",
    "\n",
    "### **Vòng Lặp `for`**\n",
    "\n",
    "- **Cú pháp:**\n",
    "    ```\n",
    "    for i in range(start, stop, step):\n",
    "        # Câu lệnh cần lặp\n",
    "    ```\n",
    "    Trong đó:\n",
    "    - `start`: giá trị bắt đầu của vòng lặp (mặc định là 0)\n",
    "    - `stop`: giá trị kết thúc của vòng lặp (bắt buộc)\n",
    "    - `step`: bước nhảy của vòng lặp (mặc định là 1)\n",
    "- **Tác dụng:** Lặp qua một dãy số từ `start` đến `stop - 1` với bước nhảy `step`\n"
   ]
  },
  {
   "cell_type": "code",
   "execution_count": 10,
   "metadata": {},
   "outputs": [
    {
     "name": "stdout",
     "output_type": "stream",
     "text": [
      "2\n",
      "4\n",
      "6\n",
      "8\n"
     ]
    }
   ],
   "source": [
    "for i in range(2,10,2):\n",
    "    print(i)"
   ]
  },
  {
   "cell_type": "markdown",
   "metadata": {},
   "source": [
    "\n",
    "### **Vòng Lặp `while`**\n",
    "\n",
    "- **Cú pháp:**\n",
    "    ```\n",
    "    while condition:\n",
    "        # Câu lệnh cần lặp\n",
    "    ```\n",
    "    Trong đó:\n",
    "    - `condition`: điều kiện để vòng lặp tiếp tục chạy (bắt buộc)\n",
    "- **Tác dụng:** Lặp lại một đoạn mã cho đến khi `condition` không còn đúng nữa\n"
   ]
  },
  {
   "cell_type": "code",
   "execution_count": 11,
   "metadata": {},
   "outputs": [
    {
     "name": "stdout",
     "output_type": "stream",
     "text": [
      "Bạn chưa đủ tuổi\n",
      "Bạn chưa đủ tuổi\n",
      "Bạn đã đủ tuổi\n"
     ]
    }
   ],
   "source": [
    "age = int(input(\"Nhập tuổi của bạn: \"))\n",
    "\n",
    "while age < 18:\n",
    "    print(\"Bạn chưa đủ tuổi\")\n",
    "    age = int(input(\"Nhập tuổi của bạn: \"))\n",
    "print(\"Bạn đã đủ tuổi\")"
   ]
  },
  {
   "cell_type": "markdown",
   "metadata": {},
   "source": [
    "\n",
    "    \n",
    "\n"
   ]
  }
 ],
 "metadata": {
  "kernelspec": {
   "display_name": "Python 3",
   "language": "python",
   "name": "python3"
  },
  "language_info": {
   "codemirror_mode": {
    "name": "ipython",
    "version": 3
   },
   "file_extension": ".py",
   "mimetype": "text/x-python",
   "name": "python",
   "nbconvert_exporter": "python",
   "pygments_lexer": "ipython3",
   "version": "3.12.4"
  }
 },
 "nbformat": 4,
 "nbformat_minor": 2
}
