{
 "cells": [
  {
   "cell_type": "markdown",
   "metadata": {},
   "source": [
    "##### **format chuỗi**\n",
    "\n",
    "- có dạng f\"{biến}\""
   ]
  },
  {
   "cell_type": "code",
   "execution_count": 18,
   "metadata": {},
   "outputs": [
    {
     "name": "stdout",
     "output_type": "stream",
     "text": [
      "Hôm nay được 10 điểm\n",
      "Hôm nay được 9 điểm\n",
      "Hôm nay được 9 điểm\n"
     ]
    }
   ],
   "source": [
    "n = 10\n",
    "s = f'Hôm nay được {n} điểm'\n",
    "print(s)\n",
    "n = 9\n",
    "s = f'Hôm nay được {n} điểm'\n",
    "print(s)\n",
    "\n",
    "print('Hôm nay được', n, 'điểm')"
   ]
  },
  {
   "cell_type": "code",
   "execution_count": 20,
   "metadata": {},
   "outputs": [
    {
     "name": "stdout",
     "output_type": "stream",
     "text": [
      "red apple is big and 300g\n",
      "red apple is big and 300 g\n"
     ]
    }
   ],
   "source": [
    "color = 'red'\n",
    "name = 'apple'\n",
    "size = 'big'\n",
    "weight = 300\n",
    "print(f'{color} {name} is {size} and {weight}g')\n",
    "\n",
    "print(color, name, 'is', size, 'and', weight, 'g')"
   ]
  },
  {
   "cell_type": "markdown",
   "metadata": {},
   "source": [
    "##### Cắt chuỗi\n",
    "- Nhận 3 tham số:\n",
    "    - start: vị trí bắt đầu cắt\n",
    "    - end: vị trí kết thúc cắt\n",
    "    - step: bước nhảy"
   ]
  },
  {
   "cell_type": "code",
   "execution_count": 3,
   "metadata": {},
   "outputs": [
    {
     "name": "stdout",
     "output_type": "stream",
     "text": [
      "0123456789\n",
      "258\n",
      "2345678\n",
      "23456789\n",
      "012345678\n"
     ]
    }
   ],
   "source": [
    "s = \"0123456789\"\n",
    "print(s)\n",
    "r = s[2:9:3]\n",
    "print(r)\n",
    "r = s[2:9]\n",
    "print(r)\n",
    "r = s[2:]\n",
    "print(r)\n",
    "r = s[:9]\n",
    "print(r)\n"
   ]
  },
  {
   "cell_type": "markdown",
   "metadata": {},
   "source": [
    "##### Truy Cập Đến 1 Phần Tử Chuỗi\n"
   ]
  },
  {
   "cell_type": "code",
   "execution_count": 5,
   "metadata": {},
   "outputs": [
    {
     "name": "stdout",
     "output_type": "stream",
     "text": [
      "e\n"
     ]
    }
   ],
   "source": [
    "a = \"Hello\"\n",
    "print(a[1])"
   ]
  },
  {
   "cell_type": "markdown",
   "metadata": {},
   "source": [
    "##### Một số thao tác với chuỗi"
   ]
  },
  {
   "cell_type": "markdown",
   "metadata": {},
   "source": [
    "Biến đổi chuỗi: upper(), lower(), capitalize(), title(), swapcase(),..."
   ]
  },
  {
   "cell_type": "code",
   "execution_count": 7,
   "metadata": {},
   "outputs": [
    {
     "name": "stdout",
     "output_type": "stream",
     "text": [
      "NGUYEN THANH VINH\n",
      "nguyen thanh vinh\n",
      "Nguyen thanh vinh\n",
      "Nguyen Thanh Vinh\n",
      "nGUYEN thANH VINH\n"
     ]
    }
   ],
   "source": [
    "s = \"Nguyen THanh vinh\"\n",
    "r = s.upper()\n",
    "print(r)\n",
    "r = s.lower()\n",
    "print(r)\n",
    "r = s.capitalize()\n",
    "print(r)\n",
    "r = s.title()\n",
    "print(r)\n",
    "r = s.swapcase()\n",
    "print(r)"
   ]
  },
  {
   "cell_type": "markdown",
   "metadata": {},
   "source": [
    "##### Tìm kiếm chuỗi con trong chuỗi\n",
    "\n",
    "- find(): trả về vị trí đầu tiên của chuỗi con trong chuỗi\n",
    "    - nếu không tìm thấy trả về -1\n"
   ]
  },
  {
   "cell_type": "code",
   "execution_count": 13,
   "metadata": {},
   "outputs": [
    {
     "name": "stdout",
     "output_type": "stream",
     "text": [
      "5\n",
      "4\n",
      "-1\n"
     ]
    }
   ],
   "source": [
    "s = \"0123456789\"\n",
    "print(s.find(\"56789\"))\n",
    "s = \"aaaabbbb\"\n",
    "print(s.find(\"b\"))\n",
    "print(s.find(\"c\"))"
   ]
  },
  {
   "cell_type": "markdown",
   "metadata": {},
   "source": [
    "##### Thay thế chuỗi con trong chuỗi"
   ]
  },
  {
   "cell_type": "code",
   "execution_count": 14,
   "metadata": {},
   "outputs": [
    {
     "name": "stdout",
     "output_type": "stream",
     "text": [
      "I love you\n"
     ]
    }
   ],
   "source": [
    "s = 'I hate you'\n",
    "r = s.replace('hate', 'love')\n",
    "print(r)"
   ]
  },
  {
   "cell_type": "markdown",
   "metadata": {},
   "source": [
    "##### Tách chuỗi thành list"
   ]
  },
  {
   "cell_type": "code",
   "execution_count": 15,
   "metadata": {},
   "outputs": [
    {
     "name": "stdout",
     "output_type": "stream",
     "text": [
      "['I', 'love', 'you', 'so', 'muchhhh']\n"
     ]
    }
   ],
   "source": [
    "s = \"I love you so muchhhh\"\n",
    "r = s.split()\n",
    "print(r)"
   ]
  },
  {
   "cell_type": "markdown",
   "metadata": {},
   "source": [
    "##### Tìm từ dài nhất trong chuỗi\n"
   ]
  },
  {
   "cell_type": "code",
   "execution_count": 40,
   "metadata": {},
   "outputs": [
    {
     "name": "stdout",
     "output_type": "stream",
     "text": [
      "['Hôm', 'nay', 'trời', 'đẹp', 'mà', 'lại', 'đi', 'học', 'Python', 'không', 'được', 'đi', 'chơi']\n",
      "0 - \n",
      "3 - Hôm\n",
      "3 - Hôm\n",
      "3 - nay\n",
      "3 - Hôm\n",
      "4 - trời\n",
      "4 - trời\n",
      "3 - đẹp\n",
      "4 - trời\n",
      "2 - mà\n",
      "4 - trời\n",
      "3 - lại\n",
      "4 - trời\n",
      "2 - đi\n",
      "4 - trời\n",
      "3 - học\n",
      "4 - trời\n",
      "6 - Python\n",
      "6 - Python\n",
      "5 - không\n",
      "6 - Python\n",
      "4 - được\n",
      "6 - Python\n",
      "2 - đi\n",
      "6 - Python\n",
      "4 - chơi\n",
      "Độ dài lớn nhất của chuỗi là: 6\n"
     ]
    }
   ],
   "source": [
    "s = \"Hôm nay trời đẹp mà lại đi học Python không được đi chơi\"\n",
    "\n",
    "r = s.split(' ')\n",
    "print(r)\n",
    "\n",
    "max_len = 0\n",
    "max_word = ''\n",
    "for i in range(len(r)): # i = 0, 1, 2, 3, 4, 5, 6, 7, 8, 9, 10, ...\n",
    "    word_len = len(r[i])\n",
    "    print(f'{max_len} - {max_word}')\n",
    "    print(f'{word_len} - {r[i]}')\n",
    "    if word_len > max_len:\n",
    "        max_len = word_len\n",
    "        max_word = r[i]\n",
    "\n",
    "print(f'Độ dài lớn nhất của chuỗi là: {max_len}')"
   ]
  },
  {
   "cell_type": "code",
   "execution_count": 43,
   "metadata": {},
   "outputs": [
    {
     "name": "stdout",
     "output_type": "stream",
     "text": [
      "['Hôm', 'nay', 'trời', 'đẹp', 'mà', 'lại', 'đi', 'học', 'Python', 'không', 'được', 'đi', 'chơi']\n",
      "999999999 - \n",
      "3 - Hôm\n",
      "3 - Hôm\n",
      "3 - nay\n",
      "3 - Hôm\n",
      "4 - trời\n",
      "3 - Hôm\n",
      "3 - đẹp\n",
      "3 - Hôm\n",
      "2 - mà\n",
      "2 - mà\n",
      "3 - lại\n",
      "2 - mà\n",
      "2 - đi\n",
      "2 - mà\n",
      "3 - học\n",
      "2 - mà\n",
      "6 - Python\n",
      "2 - mà\n",
      "5 - không\n",
      "2 - mà\n",
      "4 - được\n",
      "2 - mà\n",
      "2 - đi\n",
      "2 - mà\n",
      "4 - chơi\n",
      "Độ dài ngắn nhất của chuỗi là: 2\n"
     ]
    }
   ],
   "source": [
    "s = \"Hôm nay trời đẹp mà lại đi học Python không được đi chơi\"\n",
    "\n",
    "r = s.split(' ')\n",
    "print(r)\n",
    "\n",
    "min_len = 999999999\n",
    "min_word = ''\n",
    "for i in range(len(r)): # i = 0, 1, 2, 3, 4, 5, 6, 7, 8, 9, 10, ...\n",
    "    word_len = len(r[i])\n",
    "    print(f'{min_len} - {min_word}')\n",
    "    print(f'{word_len} - {r[i]}')\n",
    "    if word_len < min_len:\n",
    "        min_len = word_len\n",
    "        min_word = r[i]\n",
    "\n",
    "print(f'Độ dài ngắn nhất của chuỗi là: {min_len}')"
   ]
  }
 ],
 "metadata": {
  "kernelspec": {
   "display_name": "Python 3",
   "language": "python",
   "name": "python3"
  },
  "language_info": {
   "codemirror_mode": {
    "name": "ipython",
    "version": 3
   },
   "file_extension": ".py",
   "mimetype": "text/x-python",
   "name": "python",
   "nbconvert_exporter": "python",
   "pygments_lexer": "ipython3",
   "version": "3.12.4"
  }
 },
 "nbformat": 4,
 "nbformat_minor": 2
}
