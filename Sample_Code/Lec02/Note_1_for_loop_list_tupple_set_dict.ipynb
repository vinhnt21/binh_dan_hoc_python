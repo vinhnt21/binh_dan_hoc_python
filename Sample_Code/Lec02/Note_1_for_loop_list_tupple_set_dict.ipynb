{
 "cells": [
  {
   "cell_type": "markdown",
   "metadata": {},
   "source": [
    "# Buổi 2\n",
    "- Review: Biến, Kiểu Dữ Liệu, Cấu Trúc Điều Kiện, Vòng Lặp\n",
    "    - Học nốt vòng for buổi trước cháy giáo án\n",
    "- Một số Cấu Trúc Dữ Liệu\n",
    "    - List\n",
    "    - Tuple\n",
    "    - Set\n",
    "    - Dictionary\n",
    "- Xử lí chuỗi\n",
    "    - Các phương thức cơ bản\n",
    "    - Format chuỗi\n",
    "- Xử lí file\n",
    "    - Các thao tác cơ bản (mở, đọc, ghi, đóng)\n",
    "    - Các chế độ mở file\n",
    "    \n",
    "\n"
   ]
  },
  {
   "cell_type": "markdown",
   "metadata": {},
   "source": [
    "## Ôn tập + Vòng Lặp For\n",
    "- Vòng lặp for\n",
    "    - Cú pháp:\n",
    "        ```\n",
    "        for i in range(start, end, step):\n",
    "            # do something\n",
    "        ```       \n",
    "    - Nhận vào 3 thứ:\n",
    "        - Start, mặc định là 0\n",
    "        - End\n",
    "        - Step,  mặc định là 1\n"
   ]
  },
  {
   "cell_type": "code",
   "execution_count": 1,
   "metadata": {},
   "outputs": [
    {
     "name": "stdout",
     "output_type": "stream",
     "text": [
      "0\n",
      "1\n",
      "2\n",
      "3\n",
      "4\n",
      "5\n",
      "6\n",
      "7\n",
      "8\n",
      "9\n"
     ]
    }
   ],
   "source": [
    "for i in range ( 10):  # i >= end  i < end, start = 0, step = 1\n",
    "    print(i)"
   ]
  },
  {
   "cell_type": "code",
   "execution_count": 2,
   "metadata": {},
   "outputs": [
    {
     "name": "stdout",
     "output_type": "stream",
     "text": [
      "2\n",
      "3\n",
      "4\n",
      "5\n",
      "6\n",
      "7\n",
      "8\n",
      "9\n"
     ]
    }
   ],
   "source": [
    "for i in range(2, 10):  # i >= start i < end, step = 1, start = 2, end = 10\n",
    "    print(i)"
   ]
  },
  {
   "cell_type": "code",
   "execution_count": 3,
   "metadata": {},
   "outputs": [
    {
     "name": "stdout",
     "output_type": "stream",
     "text": [
      "2\n",
      "4\n",
      "6\n",
      "8\n"
     ]
    }
   ],
   "source": [
    "for i in range(2, 10, 2):  # i >= start i < end, step = 2, start = 2, end = 10\n",
    "    print(i)"
   ]
  },
  {
   "cell_type": "markdown",
   "metadata": {},
   "source": [
    "- Bản chất vòng for nó cũng giống như vòng while, chỉ khác ở chỗ là vòng for thì chúng ta biết trước số lần lặp cụ thể, còn vòng while thì chúng ta không biết trước số lần lặp cụ thể.\n",
    "- Vòng for thì cần xác định 3 thứ: **start, end, step**. Trong đó:\n",
    "    - **start**: là giá trị bắt đầu của vòng lặp, mặc định là 0\n",
    "    - **end**: là giá trị kết thúc của vòng lặp\n",
    "    - **step**: là bước nhảy của vòng lặp, mặc định là 1\n",
    "- Vòng for có thể viết bằng while tương dương, nhưng while không thể viết bằng for tương dương.\n"
   ]
  },
  {
   "cell_type": "code",
   "execution_count": 6,
   "metadata": {},
   "outputs": [
    {
     "name": "stdout",
     "output_type": "stream",
     "text": [
      "1\n",
      "4\n",
      "7\n"
     ]
    }
   ],
   "source": [
    "start = 1\n",
    "end = 10\n",
    "step = 3\n",
    "\n",
    "i = start\n",
    "while i < end: # 10 == 10 i >= end\n",
    "    print(i)\n",
    "    i += step"
   ]
  },
  {
   "cell_type": "markdown",
   "metadata": {},
   "source": [
    "#### **Tính tổng các số từ 1 đến n**\n",
    "\n",
    "- Tạo biến `n` để lưu giá trị cần tính tổng, lấy giá trị từ người dùng nhập vào\n",
    "- Tạo biến `sum` để lưu giá trị tổng, khởi tạo bằng 0\n",
    "- Vòng for với giá trị i chạy từ 1 đến n, mỗi lần lặp cộng giá trị i vào biến `sum`\n",
    "    - Ví dụ n = 5, i sẽ nhận giá trị 1, 2, 3, 4, 5\n",
    "    - Cộng lần lượt 1, 2, 3, 4, 5 vào biến `sum`\n",
    "        - i = 1, sum = 0 + i = 1\n",
    "        - i = 2, sum = 1 + i = 3\n",
    "        - i = 3, sum = 3 + i = 6\n",
    "        - i = 4, sum = 6 + i = 10\n",
    "        - i = 5, sum = 10 + i = 15\n",
    "- In ra giá trị tổng `sum = 15`"
   ]
  },
  {
   "cell_type": "code",
   "execution_count": 2,
   "metadata": {},
   "outputs": [
    {
     "name": "stdout",
     "output_type": "stream",
     "text": [
      "i:: 1\n",
      "sum:: 0\n",
      "i:: 2\n",
      "sum:: 1\n",
      "i:: 3\n",
      "sum:: 3\n",
      "i:: 4\n",
      "sum:: 6\n",
      "i:: 5\n",
      "sum:: 10\n",
      "Tổng các số từ 1 đến 5 là 15\n"
     ]
    }
   ],
   "source": [
    "sum = 0\n",
    "\n",
    "n = int(input(\"Nhập 1 số nguyên dương n: \"))\n",
    "\n",
    "for i in range(1, n+1):\n",
    "    sum += i\n",
    "\n",
    "print(\"Tổng các số từ 1 đến\", n, \"là\", sum)"
   ]
  },
  {
   "cell_type": "markdown",
   "metadata": {},
   "source": [
    "## Một số cấu trúc dữ liệu"
   ]
  },
  {
   "cell_type": "markdown",
   "metadata": {},
   "source": [
    "\n",
    "### **List**\n",
    "- **Một số đặc điểm:**\n",
    "    - Là một dạng dữ liệu cho phép lưu trữ nhiều giá trị trong một biến\n",
    "    - Có thể lưu trữ nhiều kiểu dữ liệu khác nhau\n",
    "    - Có thể thay đổi giá trị của phần tử trong list\n",
    "\n",
    "- **Khai báo list:** `list_name = [value1, value2, ...]`\n",
    "- **Truy cập phần tử trong list:** `list_name[index]`\n",
    "    - Lưu ý: index bắt đầu từ 0\n",
    "- **Một số thao tác cơ bản với list:**\n",
    "    - Thêm phần tử vào list: `list_name.append(value)`\n",
    "    - Xóa phần tử khỏi list: `list_name.remove(value)`\n",
    "    - Xóa phần tử theo index: `list_name.pop(index)`\n",
    "    - ...\n"
   ]
  },
  {
   "cell_type": "code",
   "execution_count": 7,
   "metadata": {},
   "outputs": [
    {
     "name": "stdout",
     "output_type": "stream",
     "text": [
      "[['Trang', 'Saigon', 20], ['Hieu', 'Hanoi', 40], ['Hoa', 'Hue', 30]]\n",
      "['Trang', 'Saigon', 20]\n",
      "[['Trang', 'Saigon', 20], ['Hieu', 'Hanoi', 40], ['Hoa', 'Hue', 30], ['Huy', 'Da Nang', 25]]\n",
      "[['Nam Khanh', 'Saigon', 20], ['Hieu', 'Hanoi', 40], ['Hoa', 'Hue', 30], ['Huy', 'Da Nang', 25]]\n"
     ]
    }
   ],
   "source": [
    "students = [\n",
    "    [\"Trang\",\"Saigon\", 20],\n",
    "    [\"Hieu\", \"Hanoi\", 40],\n",
    "    [\"Hoa\", \"Hue\", 30]\n",
    "]\n",
    "print(students)\n",
    "print(students[0])\n",
    "\n",
    "students.append([\"Huy\", \"Da Nang\", 25])\n",
    "print(students)\n",
    "\n",
    "students[0][0] = 'Nam Khanh'\n",
    "print(students)"
   ]
  },
  {
   "cell_type": "code",
   "execution_count": 8,
   "metadata": {},
   "outputs": [
    {
     "name": "stdout",
     "output_type": "stream",
     "text": [
      "[9, 6, 3]\n",
      "[9, 6, 3, 1]\n",
      "[9, 6, 3, 1, 2, 5, 8]\n"
     ]
    }
   ],
   "source": [
    "nums = [9, 6, 3]\n",
    "print(nums)\n",
    "nums.append(1)\n",
    "print(nums)\n",
    "nums.extend([2, 5, 8])\n",
    "print(nums)\n"
   ]
  },
  {
   "cell_type": "markdown",
   "metadata": {},
   "source": [
    "### **Tuple**: Nói chung là giống list nhưng không thể thay đổi giá trị của phần tử trong tuple\n",
    "- **Một số đặc điểm**\n",
    "    - Là một dạng dữ liệu cho phép lưu trữ nhiều giá trị trong một biến.\n",
    "    - Có thể lưu trữ nhiều kiểu dữ liệu khác nhau.\n",
    "    - **Không thể thay đổi** giá trị của phần tử trong tuple (immutable).\n",
    "  \n",
    "- **Khai báo tuple**: `tuple_name = (value1, value2, ...)`\n",
    "- **Truy cập phần tử trong tuple**: `tuple_name[index]`\n",
    "    - Lưu ý: index bắt đầu từ 0.\n",
    "\n",
    "- **Một số thao tác cơ bản với tuple**\n",
    "    - Tuple không thể thay đổi giá trị hoặc xóa từng phần tử, nhưng có thể tạo tuple mới.\n",
    "    - Có thể sử dụng `tuple_name.count(value)` để đếm số lần xuất hiện của một giá trị trong tuple.\n",
    "    - Có thể sử dụng `tuple_name.index(value)` để tìm index của một giá trị cụ thể.\n"
   ]
  },
  {
   "cell_type": "code",
   "execution_count": 9,
   "metadata": {},
   "outputs": [
    {
     "name": "stdout",
     "output_type": "stream",
     "text": [
      "(9, 6, 3)\n",
      "9\n"
     ]
    }
   ],
   "source": [
    "nums = (9, 6, 3)\n",
    "print(nums)\n",
    "print(nums[0])\n"
   ]
  },
  {
   "cell_type": "markdown",
   "metadata": {},
   "source": [
    "### **Set**\n",
    "- **Một số đặc điểm**\n",
    "    - Lưu trữ các giá trị **không trùng lặp**.\n",
    "    - Không theo thứ tự (unordered) và không có index.\n",
    "    - Có thể thay đổi giá trị (mutable), nhưng không thể chứa các phần tử có thể thay đổi (như list, dictionary).\n",
    "\n",
    "- **Khai báo set**: `set_name = {value1, value2, ...}` hoặc `set_name = set([value1, value2, ...])`\n",
    "- **Truy cập phần tử trong set**: Không thể truy cập phần tử thông qua index.\n",
    "\n",
    "- **Một số thao tác cơ bản với set**\n",
    "    - Thêm phần tử vào set: `set_name.add(value)`\n",
    "    - Xóa phần tử khỏi set: `set_name.remove(value)` (lỗi nếu không có phần tử) hoặc `set_name.discard(value)` (không lỗi).\n",
    "    - Hợp (union): `set_name1.union(set_name2)`\n",
    "    - Giao (intersection): `set_name1.intersection(set_name2)`\n",
    "    - Hiệu (difference): `set_name1.difference(set_name2)`\n",
    "\n",
    "- Kiểm tra phần tử có tồn tại trong set: `value in set_name` hoặc `value not in set_name`"
   ]
  },
  {
   "cell_type": "code",
   "execution_count": 11,
   "metadata": {},
   "outputs": [
    {
     "name": "stdout",
     "output_type": "stream",
     "text": [
      "{'bầu đá', 'mơ', 'nho', 'táo mào', 'dừa', 'gạo'}\n",
      "True\n"
     ]
    }
   ],
   "source": [
    "cac_loai_ruou = {\"dừa\", \"mơ\", \"bầu đá\", \"táo mào\", \"nho\", \"gạo\"}\n",
    "print(cac_loai_ruou)\n",
    "print(\"dừa\" in cac_loai_ruou)\n"
   ]
  },
  {
   "cell_type": "markdown",
   "metadata": {},
   "source": [
    "\n",
    "\n",
    "### **Dictionary**\n",
    "- **Một số đặc điểm**\n",
    "    - Lưu trữ dữ liệu theo cặp key-value.\n",
    "    - Có thể thay đổi giá trị của phần tử (mutable).\n",
    "    - Mỗi key phải là duy nhất, và key phải là kiểu dữ liệu bất biến (như string, number, tuple).\n",
    "\n",
    "- **Khai báo dictionary**: `dict_name = {key1: value1, key2: value2, ...}`\n",
    "- **Truy cập phần tử trong dictionary**: `dict_name[key]`\n",
    "\n",
    "- **Một số thao tác cơ bản với dictionary**\n",
    "    - Thêm hoặc cập nhật phần tử: `dict_name[key] = value`\n",
    "    - Xóa phần tử: `dict_name.pop(key)`\n",
    "    - Lấy danh sách các key: `dict_name.keys()`\n",
    "    - Lấy danh sách các value: `dict_name.values()`\n",
    "    - Lấy danh sách các cặp key-value: `dict_name.items()`\n"
   ]
  },
  {
   "cell_type": "code",
   "execution_count": 42,
   "metadata": {},
   "outputs": [
    {
     "name": "stdout",
     "output_type": "stream",
     "text": [
      "Hieu\n"
     ]
    }
   ],
   "source": [
    "students = [\n",
    "    {\n",
    "    \"name\": \"Trang\",\n",
    "    \"age\": 20,\n",
    "    \"address\": \"Saigon\",\n",
    "    \"height\": 1.7,\n",
    "    \"trinh_do\": \"Master\"\n",
    "    },\n",
    "    {\n",
    "        \"name\": \"Hieu\",\n",
    "        \"age\": 40,\n",
    "        \"address\": \"Hanoi\",\n",
    "        \"height\": 1.6,\n",
    "        \"trinh_do\": \"Master\"\n",
    "    },\n",
    "    {\n",
    "        \"name\": \"Hoa\",\n",
    "        \"age\": 30,\n",
    "        \"address\": \"Hue\",\n",
    "        \"height\": 1.8,\n",
    "        \"trinh_do\": \"Master\"\n",
    "    }\n",
    "]\n",
    "print(students[1][\"name\"])"
   ]
  }
 ],
 "metadata": {
  "kernelspec": {
   "display_name": "Python 3",
   "language": "python",
   "name": "python3"
  },
  "language_info": {
   "codemirror_mode": {
    "name": "ipython",
    "version": 3
   },
   "file_extension": ".py",
   "mimetype": "text/x-python",
   "name": "python",
   "nbconvert_exporter": "python",
   "pygments_lexer": "ipython3",
   "version": "3.12.4"
  }
 },
 "nbformat": 4,
 "nbformat_minor": 2
}
